{
 "cells": [
  {
   "cell_type": "code",
   "execution_count": 1,
   "metadata": {},
   "outputs": [],
   "source": [
    "#from casadi import *\n",
    "import numpy as np\n",
    "\n",
    "import sympy\n",
    "from sympy import sin, cos, simplify\n",
    "from sympy import symbols as syms\n",
    "from sympy.matrices import Matrix\n",
    "from sympy.utilities.lambdify import lambdastr\n",
    "\n",
    "import matplotlib.pyplot as plt\n",
    "from draw_class import Visualizer"
   ]
  },
  {
   "cell_type": "code",
   "execution_count": null,
   "metadata": {},
   "outputs": [],
   "source": []
  },
  {
   "cell_type": "markdown",
   "metadata": {},
   "source": [
    "# System State derivation\n",
    "\\begin{align}\n",
    "x_c &:= \\mbox{cart position in x direction in m} \\\\\n",
    "\\phi_1 &:= \\mbox{angle of first pole in deg} \\\\\n",
    "\\phi_2 &:= \\mbox{angle of second pole in deg} \\\\\n",
    "\\dot{x_c} &:= \\mbox{cart velocity in x direction in m/s} \\\\\n",
    "\\dot{\\phi}_1 &:= \\mbox{angular velocity of first pole in deg/s} \\\\\n",
    "\\dot{\\phi}_2 &:= \\mbox{angular of second pole in deg/s}\n",
    "\\end{align}"
   ]
  },
  {
   "cell_type": "code",
   "execution_count": 3,
   "metadata": {},
   "outputs": [],
   "source": [
    "# init symbolic variables needed to describe the system\n",
    "x_c, phi_1, phi_2, xdot_c, phidot_1, phidot_2, xddot_c, phiddot_1, phiddot_2, u = syms('x_c phi_1 phi_2 xdot_c phidot_1 phidot_2 xddot_c phiddot_1 phiddot_2 u')\n",
    "\n",
    "\n",
    "# vector q holds system positions\n",
    "q = Matrix([x_c, phi_1, phi_2])   \n",
    "# first time derivative of q \n",
    "qdot = Matrix([xdot_c, phidot_1, phidot_2])\n",
    "# seconds time derivative of q \n",
    "qddot = Matrix([xddot_c, phiddot_1, phiddot_2]) \n",
    "# system paramters\n",
    "# m_c, m_1, m_2, l_1, l_2, g = syms('m_c, m_1, m_2, l_1, l_2, g')\n",
    "m_c = 0.6\n",
    "m_1 = 0.2 \n",
    "m_2 = 0.2\n",
    "l_1 = 0.5\n",
    "l_2 = 0.5\n",
    "g = 9.81\n",
    "\n"
   ]
  },
  {
   "cell_type": "code",
   "execution_count": 4,
   "metadata": {},
   "outputs": [
    {
     "data": {
      "text/plain": [
       "0.7071067811865475"
      ]
     },
     "execution_count": 4,
     "metadata": {},
     "output_type": "execute_result"
    }
   ],
   "source": [
    "np.sin(0.25*np.pi)"
   ]
  },
  {
   "cell_type": "markdown",
   "metadata": {},
   "source": [
    "## Kinematics\n",
    "The carts center of mass position is given by:\n",
    "\\begin{align}\n",
    "p_c &= \\begin{bmatrix}\n",
    "           x_c \\\\\n",
    "           0 \n",
    "         \\end{bmatrix}\n",
    "\\end{align}\n",
    "and the first poles position can be calculated by (the center of mass is half-way along the pole):\n",
    "\\begin{align}\n",
    "p_1 &= p_c + \\frac{l_1}{2} \\begin{bmatrix}\n",
    "           sin(\\phi_1) \\\\\n",
    "           cos(\\phi_1)\n",
    "         \\end{bmatrix}.\n",
    "\\end{align}\n",
    "The center of mass position of the second pole can be derived by following the first pole and considering both joint angles to find the second poles direction:\n",
    "\\begin{align}\n",
    "p_2 &= p_c + l_1 \\begin{bmatrix}\n",
    "           sin(\\phi_1) \\\\\n",
    "           cos(\\phi_1)\n",
    "         \\end{bmatrix} + \\frac{l_2}{2} \\begin{bmatrix}\n",
    "                                           sin(\\phi_1 + \\phi_2) \\\\\n",
    "                                           cos(\\phi_1 + \\phi_2)\n",
    "                                        \\end{bmatrix}.\n",
    "\\end{align}\n"
   ]
  },
  {
   "cell_type": "code",
   "execution_count": 5,
   "metadata": {},
   "outputs": [],
   "source": [
    "# cart position\n",
    "p_c = Matrix([x_c, 0])\n",
    "# position first pole\n",
    "p_1 = p_c + l_1/2 * Matrix([-sin(phi_1), cos(phi_1)])\n",
    "# position second pole \n",
    "p_2 = p_c + l_1 * Matrix([-sin(phi_1), cos(phi_1)]) + l_2/2 * Matrix([-sin(phi_1+phi_2), cos(phi_1+phi_2)])\n"
   ]
  },
  {
   "cell_type": "markdown",
   "metadata": {},
   "source": [
    "To calculate the velocity, time derivatives of all position equations are nescarry. Here we use: \n",
    "\\begin{align}\n",
    "\\frac{\\partial f(x)}{\\partial t} = \\frac{\\partial f(x)}{\\partial x} \\frac{\\partial x}{\\partial t} = \\frac{\\partial f(x)}{\\partial x} \\dot{x}.\n",
    "\\end{align}\n",
    "\n"
   ]
  },
  {
   "cell_type": "code",
   "execution_count": 6,
   "metadata": {},
   "outputs": [],
   "source": [
    "# cart velocity\n",
    "v_c = p_c.jacobian(Matrix([x_c])) * Matrix([xdot_c])\n",
    "# velocity first pole\n",
    "v_1 = p_1.jacobian(Matrix([x_c, phi_1])) * Matrix([xdot_c, phidot_1])\n",
    "# velocity second pole\n",
    "v_2 = p_2.jacobian(Matrix([x_c, phi_1, phi_2])) * Matrix([xdot_c, phidot_1, phidot_2])\n"
   ]
  },
  {
   "cell_type": "markdown",
   "metadata": {},
   "source": [
    "The kinetic energy is given by:\n",
    "\\begin{align}\n",
    "K = \\frac{1}{2} m v²\n",
    "\\end{align}"
   ]
  },
  {
   "cell_type": "code",
   "execution_count": 7,
   "metadata": {},
   "outputs": [],
   "source": [
    "K_c = m_c * v_c.T*v_c / 2\n",
    "K_1 = m_1 * v_1.T*v_1 / 2\n",
    "K_2 = m_2 * v_2.T*v_2 / 2"
   ]
  },
  {
   "cell_type": "markdown",
   "metadata": {},
   "source": [
    "The potention energy is given by the y coordinate of each system part ($y=0$ is our baseline):\n",
    "\\begin{align}\n",
    "P = mgp_y\n",
    "\\end{align}"
   ]
  },
  {
   "cell_type": "code",
   "execution_count": 8,
   "metadata": {},
   "outputs": [],
   "source": [
    "P_1 = Matrix([m_1 * g * p_1[1]])\n",
    "P_2 = Matrix([m_2 * g * p_2[1]])"
   ]
  },
  {
   "cell_type": "markdown",
   "metadata": {},
   "source": [
    "The kinetic and potential energy of the system is plugged into the Euler-Lagrange equation. \n",
    "\n",
    "*TODO: Rewrite var names and structure*"
   ]
  },
  {
   "cell_type": "code",
   "execution_count": 9,
   "metadata": {},
   "outputs": [],
   "source": [
    "L = K_c + K_1 + K_2 - P_1 - P_2\n",
    "\n",
    "# uirst term in the Euler-Lagrange equation\n",
    "partial_L_by_partial_q = L.jacobian(Matrix([q])).T\n",
    "\n",
    "# inner term ou the second part ou the Euler-Lagrange equation\n",
    "partial_L_by_partial_qdot = L.jacobian(Matrix([qdot]))\n",
    "\n",
    "# second term (overall, time derivative) in the Euler-Lagrange equation\n",
    "# applies the chain rule\n",
    "d_inner_by_dt = partial_L_by_partial_qdot.jacobian(Matrix([q])) * qdot + partial_L_by_partial_qdot.jacobian(Matrix([qdot])) * qddot\n",
    "\n",
    "# Euler-Lagrange equation\n",
    "lagrange_eq = partial_L_by_partial_q - d_inner_by_dt + Matrix([u,0,0])\n"
   ]
  },
  {
   "cell_type": "markdown",
   "metadata": {},
   "source": [
    "Solve Euler Lagrange for $\\ddot{x}_c$, $\\ddot{\\phi}_1$ and $\\ddot{\\phi}_2$"
   ]
  },
  {
   "cell_type": "code",
   "execution_count": 10,
   "metadata": {},
   "outputs": [
    {
     "name": "stdout",
     "output_type": "stream",
     "text": [
      "This will take some time...\n"
     ]
    }
   ],
   "source": [
    "print(\"This will take some time...\")\n",
    "r = sympy.solvers.solve(simplify(lagrange_eq), Matrix([qddot]))\n"
   ]
  },
  {
   "cell_type": "code",
   "execution_count": 11,
   "metadata": {},
   "outputs": [
    {
     "name": "stdout",
     "output_type": "stream",
     "text": [
      "This will also take some time...\n"
     ]
    }
   ],
   "source": [
    "print(\"This will also take some time...\")\n",
    "xddot_c_sol = simplify(r[xddot_c])\n",
    "phiddot_1_sol = simplify(r[phiddot_1])\n",
    "phiddot_2_sol = simplify(r[phiddot_2])"
   ]
  },
  {
   "cell_type": "markdown",
   "metadata": {},
   "source": [
    "## Casadi\n"
   ]
  },
  {
   "cell_type": "code",
   "execution_count": 12,
   "metadata": {},
   "outputs": [],
   "source": [
    "# casadi should be imported here to prevent overloading of sympy functions\n",
    "from casadi import *\n",
    "\n",
    "# redefine all sympy symbols as casadi symbols\n",
    "x_c = SX.sym('x_c')\n",
    "phi_1 = SX.sym('phi_1')\n",
    "phi_2 = SX.sym('phi_2')\n",
    "xdot_c = SX.sym('xdot_c')\n",
    "phidot_1 = SX.sym('phidot_1')\n",
    "phidot_2 = SX.sym('phidot_2')\n",
    "xddot_c =SX.sym('xddot_c')\n",
    "phiddot_1 = SX.sym('phiddot_1')\n",
    "phiddot_2 = SX.sym('phiddot_2')\n",
    "nu = 1\n",
    "u = SX.sym('u', nu)\n",
    "\n",
    "# create casadi function for each ODE this will make the reduction of order easier\n",
    "xddot_c_cas_symb = eval(str(xddot_c_sol))\n",
    "xddot_c_fun  = Function(\"xddot_c\", [phi_1, phi_2, xdot_c, phidot_1, phidot_2, u], [xddot_c_cas_symb])\n",
    "                   \n",
    "phiddot_1_cas_symb = eval(str(phiddot_1_sol))\n",
    "phiddot_1_fun  = Function(\"phiddot_1\", [phi_1, phi_2, xdot_c, phidot_1, phidot_2, u], [phiddot_1_cas_symb])\n",
    "\n",
    "phiddot_2_cas_symb = eval(str(phiddot_2_sol))\n",
    "phiddot_2_fun  = Function(\"phiddot_2\", [phi_1, phi_2, xdot_c, phidot_1, phidot_2, u], [phiddot_2_cas_symb])\n",
    "    "
   ]
  },
  {
   "cell_type": "markdown",
   "metadata": {},
   "source": [
    "Convert 2nd order ODEs to system of first order ODEs where:\n",
    "\\begin{align}\n",
    "    x_1 &= x_c, \\\\\n",
    "    x_2 &= \\dot{x_c}, \\\\\n",
    "    x_3 &= \\phi_1, \\\\\n",
    "    x_4 &= \\dot{\\phi_1}, \\\\\n",
    "    x_5 &= \\phi_2 \\\\\n",
    "    x_6 &= \\dot{\\phi_2}\n",
    "\\end{align}"
   ]
  },
  {
   "cell_type": "code",
   "execution_count": 13,
   "metadata": {},
   "outputs": [],
   "source": [
    "nx = 6\n",
    "\n",
    "x = SX.sym(\"x\", nx)\n",
    "\n",
    "# create system of first order ODEs\n",
    "xdot = np.array([[x[1]], # xdot_1\n",
    "                 [xddot_c_fun(x[2], x[4], x[1], x[3], x[5], u)], # xdot_2\n",
    "                 [x[3]], # xdot_3\n",
    "                 [phiddot_1_fun(x[2], x[4], x[1], x[3], x[5], u)], # xdot_3\n",
    "                 [x[5]], # xdot_4\n",
    "                 [phiddot_2_fun(x[2], x[4], x[1], x[3], x[5], u)]]) # xdot_4\n",
    "\n",
    "system = Function(\"system\", [x, u], [xdot])"
   ]
  }
 ],
 "metadata": {
  "kernelspec": {
   "display_name": "Python [conda env:mpc]",
   "language": "python",
   "name": "conda-env-mpc-py"
  },
  "language_info": {
   "codemirror_mode": {
    "name": "ipython",
    "version": 3
   },
   "file_extension": ".py",
   "mimetype": "text/x-python",
   "name": "python",
   "nbconvert_exporter": "python",
   "pygments_lexer": "ipython3",
   "version": "3.8.3"
  }
 },
 "nbformat": 4,
 "nbformat_minor": 4
}